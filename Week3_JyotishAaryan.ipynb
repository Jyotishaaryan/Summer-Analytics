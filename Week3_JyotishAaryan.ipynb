{
  "nbformat": 4,
  "nbformat_minor": 0,
  "metadata": {
    "colab": {
      "provenance": []
    },
    "kernelspec": {
      "name": "python3",
      "display_name": "Python 3"
    },
    "language_info": {
      "name": "python"
    }
  },
  "cells": [
    {
      "cell_type": "code",
      "source": [
        "import pandas as pd\n",
        "from sklearn.model_selection import train_test_split\n",
        "from sklearn.linear_model import LogisticRegression\n",
        "from sklearn.metrics import roc_auc_score\n",
        "from sklearn.preprocessing import LabelEncoder, OneHotEncoder\n",
        "from sklearn.impute import SimpleImputer\n",
        "from google.colab import drive, files\n",
        "drive.mount('/content/drive')\n",
        "train_features=pd.read_csv('/content/drive/MyDrive/training_set_features.csv')\n",
        "train_labels=pd.read_csv('/content/drive/MyDrive/training_set_labels.csv')\n",
        "test_data=pd.read_csv('/content/drive/MyDrive/test_set_features.csv')\n",
        "\n",
        "#Separating the categorical and numerical columns\n",
        "categorical_cols=train_features.select_dtypes(include=['object']).columns\n",
        "numerical_cols=train_features.select_dtypes(exclude=['object']).columns\n",
        "\n",
        "#Encoding the categorical columns numerically and one-hot encode\n",
        "encoders={}\n",
        "for col in categorical_cols:\n",
        "    encoders[col]=LabelEncoder()\n",
        "    train_features[col]=encoders[col].fit_transform(train_features[col])\n",
        "    test_data[col]=encoders[col].transform(test_data[col])\n",
        "\n",
        "ohe=OneHotEncoder(handle_unknown='ignore', sparse_output=False)\n",
        "ohe_train_features=ohe.fit_transform(train_features[categorical_cols])\n",
        "ohe_test_features=ohe.transform(test_data[categorical_cols])\n",
        "\n",
        "X_train=pd.concat([train_features[numerical_cols], pd.DataFrame(ohe_train_features, index=train_features.index)], axis=1)\n",
        "X_test=pd.concat([test_data[numerical_cols], pd.DataFrame(ohe_test_features, index=test_data.index, columns=X_train.columns[len(numerical_cols):])], axis=1)\n",
        "\n",
        "#Converting column names to strings\n",
        "X_train.columns=X_train.columns.astype(str)\n",
        "X_test.columns=X_test.columns.astype(str)\n",
        "\n",
        "#Imputing missing values in the numerical columns\n",
        "numerical_imputer=SimpleImputer(strategy='mean')\n",
        "X_train[numerical_cols]=numerical_imputer.fit_transform(X_train[numerical_cols])\n",
        "X_test[numerical_cols]=numerical_imputer.transform(X_test[numerical_cols])\n",
        "\n",
        "#Separating labels\n",
        "y_train_xyz=train_labels['xyz_vaccine']\n",
        "y_train_seasonal=train_labels['seasonal_vaccine']\n",
        "\n",
        "#Spliting the training data into train and validation sets\n",
        "X_train, X_val, y_train_xyz, y_val_xyz, y_train_seasonal, y_val_seasonal=train_test_split(X_train, y_train_xyz, y_train_seasonal, test_size=0.2, random_state=42)\n",
        "\n",
        "#Training\n",
        "xyz_model=LogisticRegression(max_iter=1000)\n",
        "xyz_model.fit(X_train, y_train_xyz)\n",
        "\n",
        "seasonal_model=LogisticRegression(max_iter=1000)\n",
        "seasonal_model.fit(X_train, y_train_seasonal)\n",
        "\n",
        "#Prediction\n",
        "xyz_val_probs=xyz_model.predict_proba(X_val)[:, 1]\n",
        "seasonal_val_probs=seasonal_model.predict_proba(X_val)[:, 1]\n",
        "\n",
        "#Calculating scores\n",
        "xyz_val_auc=roc_auc_score(y_val_xyz, xyz_val_probs)\n",
        "seasonal_val_auc=roc_auc_score(y_val_seasonal, seasonal_val_probs)\n",
        "\n",
        "print(f\"xyz_vaccine: {xyz_val_auc:.4f}\")\n",
        "print(f\"seasonal_vaccine: {seasonal_val_auc:.4f}\")\n",
        "print(f\"Mean ROC AUC: {(xyz_val_auc + seasonal_val_auc) / 2:.4f}\")\n",
        "\n",
        "X_test=pd.DataFrame(data=X_test, columns=X_train.columns)\n",
        "\n",
        "#Probabilities for the test set\n",
        "xyz_test_probs=xyz_model.predict_proba(X_test)[:, 1]\n",
        "seasonal_test_probs=seasonal_model.predict_proba(X_test)[:, 1]\n",
        "\n",
        "#Saving into new file\n",
        "submission=pd.DataFrame({'respondent_id': test_data['respondent_id'], 'xyz_vaccine': xyz_test_probs, 'seasonal_vaccine': seasonal_test_probs})\n",
        "submission.to_csv('Output_RoopeshRanjan.csv', index=False)\n",
        "files.download('Output_RoopeshRanjan.csv')"
      ],
      "metadata": {
        "colab": {
          "base_uri": "https://localhost:8080/",
          "height": 106
        },
        "id": "wb3eG-nWzytS",
        "outputId": "9cc4cdd9-c4f5-43ba-f06a-97fa337de88e"
      },
      "execution_count": 1,
      "outputs": [
        {
          "output_type": "stream",
          "name": "stdout",
          "text": [
            "Drive already mounted at /content/drive; to attempt to forcibly remount, call drive.mount(\"/content/drive\", force_remount=True).\n",
            "xyz_vaccine: 0.8243\n",
            "seasonal_vaccine: 0.8304\n",
            "Mean ROC AUC: 0.8273\n"
          ]
        },
        {
          "output_type": "display_data",
          "data": {
            "text/plain": [
              "<IPython.core.display.Javascript object>"
            ],
            "application/javascript": [
              "\n",
              "    async function download(id, filename, size) {\n",
              "      if (!google.colab.kernel.accessAllowed) {\n",
              "        return;\n",
              "      }\n",
              "      const div = document.createElement('div');\n",
              "      const label = document.createElement('label');\n",
              "      label.textContent = `Downloading \"${filename}\": `;\n",
              "      div.appendChild(label);\n",
              "      const progress = document.createElement('progress');\n",
              "      progress.max = size;\n",
              "      div.appendChild(progress);\n",
              "      document.body.appendChild(div);\n",
              "\n",
              "      const buffers = [];\n",
              "      let downloaded = 0;\n",
              "\n",
              "      const channel = await google.colab.kernel.comms.open(id);\n",
              "      // Send a message to notify the kernel that we're ready.\n",
              "      channel.send({})\n",
              "\n",
              "      for await (const message of channel.messages) {\n",
              "        // Send a message to notify the kernel that we're ready.\n",
              "        channel.send({})\n",
              "        if (message.buffers) {\n",
              "          for (const buffer of message.buffers) {\n",
              "            buffers.push(buffer);\n",
              "            downloaded += buffer.byteLength;\n",
              "            progress.value = downloaded;\n",
              "          }\n",
              "        }\n",
              "      }\n",
              "      const blob = new Blob(buffers, {type: 'application/binary'});\n",
              "      const a = document.createElement('a');\n",
              "      a.href = window.URL.createObjectURL(blob);\n",
              "      a.download = filename;\n",
              "      div.appendChild(a);\n",
              "      a.click();\n",
              "      div.remove();\n",
              "    }\n",
              "  "
            ]
          },
          "metadata": {}
        },
        {
          "output_type": "display_data",
          "data": {
            "text/plain": [
              "<IPython.core.display.Javascript object>"
            ],
            "application/javascript": [
              "download(\"download_9535ff01-071c-41e0-a630-811577556903\", \"Output_RoopeshRanjan.csv\", 1206695)"
            ]
          },
          "metadata": {}
        }
      ]
    }
  ]
}